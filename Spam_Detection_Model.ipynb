{
 "cells": [
  {
   "cell_type": "markdown",
   "id": "03779b00",
   "metadata": {},
   "source": [
    "# 📧 Spam Email Detection using Scikit-learn\n",
    "\n",
    "This notebook demonstrates how to build a spam email detection model using Naive Bayes and Scikit-learn."
   ]
  },
  {
   "cell_type": "code",
   "execution_count": null,
   "id": "b762d11f",
   "metadata": {},
   "outputs": [],
   "source": [
    "# Step 1: Import Libraries\n",
    "import pandas as pd\n",
    "import numpy as np\n",
    "from sklearn.model_selection import train_test_split\n",
    "from sklearn.feature_extraction.text import CountVectorizer\n",
    "from sklearn.naive_bayes import MultinomialNB\n",
    "from sklearn.metrics import accuracy_score, confusion_matrix, classification_report"
   ]
  },
  {
   "cell_type": "code",
   "execution_count": null,
   "id": "c63889ec",
   "metadata": {},
   "outputs": [],
   "source": [
    "# Step 2: Load Dataset\n",
    "data = pd.read_csv(\"https://raw.githubusercontent.com/justmarkham/pycon-2016-tutorial/master/data/sms.tsv\",\n",
    "                   sep='\\t', header=None, names=['label', 'message'])\n",
    "data.head()"
   ]
  },
  {
   "cell_type": "code",
   "execution_count": null,
   "id": "58fa3985",
   "metadata": {},
   "outputs": [],
   "source": [
    "# Step 3: Preprocess Data\n",
    "data['label_num'] = data.label.map({'ham': 0, 'spam': 1})\n",
    "X = data['message']\n",
    "y = data['label_num']"
   ]
  },
  {
   "cell_type": "code",
   "execution_count": null,
   "id": "fd9e1a52",
   "metadata": {},
   "outputs": [],
   "source": [
    "# Step 4: Vectorization (Convert text into numerical features)\n",
    "vectorizer = CountVectorizer()\n",
    "X_vectorized = vectorizer.fit_transform(X)"
   ]
  },
  {
   "cell_type": "code",
   "execution_count": null,
   "id": "4325f234",
   "metadata": {},
   "outputs": [],
   "source": [
    "# Step 5: Train/Test Split\n",
    "X_train, X_test, y_train, y_test = train_test_split(X_vectorized, y, test_size=0.3, random_state=42)"
   ]
  },
  {
   "cell_type": "code",
   "execution_count": null,
   "id": "f7097867",
   "metadata": {},
   "outputs": [],
   "source": [
    "# Step 6: Train the Naive Bayes Model\n",
    "model = MultinomialNB()\n",
    "model.fit(X_train, y_train)"
   ]
  },
  {
   "cell_type": "code",
   "execution_count": null,
   "id": "b6af5bd6",
   "metadata": {},
   "outputs": [],
   "source": [
    "# Step 7: Evaluate the Model\n",
    "y_pred = model.predict(X_test)\n",
    "\n",
    "print(\"Accuracy:\", accuracy_score(y_test, y_pred))\n",
    "print(\"\\nClassification Report:\\n\", classification_report(y_test, y_pred))\n",
    "print(\"\\nConfusion Matrix:\\n\", confusion_matrix(y_test, y_pred))"
   ]
  },
  {
   "cell_type": "code",
   "execution_count": null,
   "id": "f4100578",
   "metadata": {},
   "outputs": [],
   "source": [
    "# Step 8: Predict on New Messages\n",
    "sample_messages = [\"Congratulations, you've won a free iPhone!\", \"Are we still meeting tomorrow?\"]\n",
    "sample_vectorized = vectorizer.transform(sample_messages)\n",
    "predictions = model.predict(sample_vectorized)\n",
    "\n",
    "print(\"\\nPredictions on Sample Messages:\")\n",
    "for msg, label in zip(sample_messages, predictions):\n",
    "    print(f\"{msg} --> {'SPAM' if label == 1 else 'HAM'}\")"
   ]
  }
 ],
 "metadata": {},
 "nbformat": 4,
 "nbformat_minor": 5
}
